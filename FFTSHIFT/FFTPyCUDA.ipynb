{
  "nbformat": 4,
  "nbformat_minor": 0,
  "metadata": {
    "colab": {
      "name": "FFTPyCUDA.ipynb",
      "provenance": [],
      "collapsed_sections": []
    },
    "kernelspec": {
      "name": "python3",
      "display_name": "Python 3"
    },
    "language_info": {
      "name": "python"
    },
    "accelerator": "GPU",
    "gpuClass": "standard"
  },
  "cells": [
    {
      "cell_type": "code",
      "source": [
        "pip install pycuda"
      ],
      "metadata": {
        "colab": {
          "base_uri": "https://localhost:8080/"
        },
        "id": "5s8VNjaj3jk4",
        "outputId": "d4ae33a3-99eb-4bd7-c6e1-ad73411f5689"
      },
      "execution_count": null,
      "outputs": [
        {
          "output_type": "stream",
          "name": "stdout",
          "text": [
            "Looking in indexes: https://pypi.org/simple, https://us-python.pkg.dev/colab-wheels/public/simple/\n",
            "Requirement already satisfied: pycuda in /usr/local/lib/python3.7/dist-packages (2022.1)\n",
            "Requirement already satisfied: pytools>=2011.2 in /usr/local/lib/python3.7/dist-packages (from pycuda) (2022.1.12)\n",
            "Requirement already satisfied: mako in /usr/local/lib/python3.7/dist-packages (from pycuda) (1.2.1)\n",
            "Requirement already satisfied: appdirs>=1.4.0 in /usr/local/lib/python3.7/dist-packages (from pycuda) (1.4.4)\n",
            "Requirement already satisfied: typing-extensions>=4.0 in /usr/local/lib/python3.7/dist-packages (from pytools>=2011.2->pycuda) (4.1.1)\n",
            "Requirement already satisfied: platformdirs>=2.2.0 in /usr/local/lib/python3.7/dist-packages (from pytools>=2011.2->pycuda) (2.5.2)\n",
            "Requirement already satisfied: MarkupSafe>=0.9.2 in /usr/local/lib/python3.7/dist-packages (from mako->pycuda) (2.0.1)\n",
            "Requirement already satisfied: importlib-metadata in /usr/local/lib/python3.7/dist-packages (from mako->pycuda) (4.11.4)\n",
            "Requirement already satisfied: zipp>=0.5 in /usr/local/lib/python3.7/dist-packages (from importlib-metadata->mako->pycuda) (3.8.0)\n"
          ]
        }
      ]
    },
    {
      "cell_type": "markdown",
      "source": [
        "Install the scikit-cuda package containing the FFT facilities."
      ],
      "metadata": {
        "id": "puh5VnBJVrLS"
      }
    },
    {
      "cell_type": "code",
      "source": [
        "pip install scikit-cuda"
      ],
      "metadata": {
        "colab": {
          "base_uri": "https://localhost:8080/"
        },
        "id": "U-GNUPOs9zRk",
        "outputId": "c6ae95c9-6ea3-45eb-9a29-3c458e190a4d"
      },
      "execution_count": null,
      "outputs": [
        {
          "output_type": "stream",
          "name": "stdout",
          "text": [
            "Looking in indexes: https://pypi.org/simple, https://us-python.pkg.dev/colab-wheels/public/simple/\n",
            "Requirement already satisfied: scikit-cuda in /usr/local/lib/python3.7/dist-packages (0.5.3)\n",
            "Requirement already satisfied: pycuda>=2016.1 in /usr/local/lib/python3.7/dist-packages (from scikit-cuda) (2022.1)\n",
            "Requirement already satisfied: numpy>=1.2.0 in /usr/local/lib/python3.7/dist-packages (from scikit-cuda) (1.21.6)\n",
            "Requirement already satisfied: mako>=1.0.1 in /usr/local/lib/python3.7/dist-packages (from scikit-cuda) (1.2.1)\n",
            "Requirement already satisfied: importlib-metadata in /usr/local/lib/python3.7/dist-packages (from mako>=1.0.1->scikit-cuda) (4.11.4)\n",
            "Requirement already satisfied: MarkupSafe>=0.9.2 in /usr/local/lib/python3.7/dist-packages (from mako>=1.0.1->scikit-cuda) (2.0.1)\n",
            "Requirement already satisfied: pytools>=2011.2 in /usr/local/lib/python3.7/dist-packages (from pycuda>=2016.1->scikit-cuda) (2022.1.12)\n",
            "Requirement already satisfied: appdirs>=1.4.0 in /usr/local/lib/python3.7/dist-packages (from pycuda>=2016.1->scikit-cuda) (1.4.4)\n",
            "Requirement already satisfied: platformdirs>=2.2.0 in /usr/local/lib/python3.7/dist-packages (from pytools>=2011.2->pycuda>=2016.1->scikit-cuda) (2.5.2)\n",
            "Requirement already satisfied: typing-extensions>=4.0 in /usr/local/lib/python3.7/dist-packages (from pytools>=2011.2->pycuda>=2016.1->scikit-cuda) (4.1.1)\n",
            "Requirement already satisfied: zipp>=0.5 in /usr/local/lib/python3.7/dist-packages (from importlib-metadata->mako>=1.0.1->scikit-cuda) (3.8.0)\n"
          ]
        }
      ]
    },
    {
      "cell_type": "code",
      "execution_count": null,
      "metadata": {
        "id": "XMcTDjKI29kN"
      },
      "outputs": [],
      "source": [
        "import numpy as np"
      ]
    },
    {
      "cell_type": "code",
      "source": [
        "import pycuda.autoinit\n",
        "import pycuda.gpuarray as gpuarray\n",
        "import pycuda.cumath\n",
        "from pycuda.compiler import SourceModule\n",
        "\n",
        "from skcuda import fft"
      ],
      "metadata": {
        "id": "pztAaDMJ3hkI",
        "colab": {
          "base_uri": "https://localhost:8080/"
        },
        "outputId": "0c0935e4-177d-4a9b-b756-5811b3e7351f"
      },
      "execution_count": null,
      "outputs": [
        {
          "output_type": "stream",
          "name": "stderr",
          "text": [
            "/usr/local/lib/python3.7/dist-packages/skcuda/cublas.py:284: UserWarning: creating CUBLAS context to get version number\n",
            "  warnings.warn('creating CUBLAS context to get version number')\n"
          ]
        }
      ]
    },
    {
      "cell_type": "code",
      "source": [
        "import matplotlib.pyplot as plt"
      ],
      "metadata": {
        "id": "00yMT7UQ7y12"
      },
      "execution_count": null,
      "outputs": []
    },
    {
      "cell_type": "code",
      "source": [
        "###################\n",
        "# iDivUp FUNCTION #\n",
        "###################\n",
        "def iDivUp(a, b):\n",
        "    # Round a / b to nearest higher integer value\n",
        "    a = np.int32(a)\n",
        "    b = np.int32(b)\n",
        "    return (a / b + 1) if (a % b != 0) else (a / b)"
      ],
      "metadata": {
        "id": "hz6x42TFAk8Z"
      },
      "execution_count": null,
      "outputs": []
    },
    {
      "cell_type": "markdown",
      "source": [
        "Without fftshift."
      ],
      "metadata": {
        "id": "18XP90728yrR"
      }
    },
    {
      "cell_type": "code",
      "source": [
        "M = 25\n",
        "\n",
        "h_x = np.ones((M, 1), dtype = np.complex64)\n",
        "d_x = gpuarray.to_gpu(h_x)\n",
        "\n",
        "d_y = gpuarray.empty_like(d_x, dtype = np.complex64)\n",
        "\n",
        "plan = fft.Plan(d_x.shape, np.complex64, np.complex64)\n",
        "fft.fft(d_x, d_y, plan)\n",
        "  \n",
        "h_y = d_y.get()\n",
        "\n",
        "plt.plot(np.abs(h_y))\n",
        "plt.ylabel('FFT')\n",
        "plt.show()"
      ],
      "metadata": {
        "colab": {
          "base_uri": "https://localhost:8080/",
          "height": 265
        },
        "id": "PNCIl8ig-HCe",
        "outputId": "65896955-6916-4bdf-bf57-8393c301fb2c"
      },
      "execution_count": null,
      "outputs": [
        {
          "output_type": "display_data",
          "data": {
            "text/plain": [
              "<Figure size 432x288 with 1 Axes>"
            ],
            "image/png": "[encoded data removed]"
          },
          "metadata": {
            "needs_background": "light"
          }
        }
      ]
    },
    {
      "cell_type": "markdown",
      "source": [
        "With fftshift."
      ],
      "metadata": {
        "id": "5MylxZKn8-pK"
      }
    },
    {
      "cell_type": "code",
      "source": [
        "mod = SourceModule(\"\"\"\n",
        "\n",
        "#define PI_f      3.1415927410125732421875\n",
        "\n",
        "/***************/\n",
        "/* FFTSHIFT 1D */\n",
        "/***************/\n",
        "__global__ void ffthisft_1d_complex64_even(float2 *u_d, int N)\n",
        "{\n",
        "  int i = blockDim.x * blockIdx.x + threadIdx.x;\n",
        "  if(i < N)\n",
        "  {\n",
        "    //float a = pow(-1.0f, i&1);\n",
        "    float a = (float)(1-2*((int)i%2));\n",
        "    u_d[i].x *= a;\n",
        "    u_d[i].y *= a;\n",
        "  }\n",
        "}\n",
        "\n",
        "\n",
        "__global__ void ffthisft_1d_complex64_odd(float2 *u_d, int N)\n",
        "{\n",
        "  int i = blockDim.x * blockIdx.x + threadIdx.x;\n",
        "  if(i < N)\n",
        "  {\n",
        "    float2 a, out;\n",
        "    a.x           = cosf(PI_f * (N - 1) * i / N);\n",
        "    a.y           = sinf(PI_f * (N - 1) * i / N);\n",
        "    out.x         = u_d[i].x * a.x - u_d[i].y * a.y;\n",
        "    out.y         = u_d[i].y * a.x + u_d[i].x * a.y;\n",
        "    u_d[i]        = out;\n",
        "  }\n",
        "}\n",
        "\n",
        "\"\"\")\n",
        "\n",
        "ffthisft_1d_complex64_even \t\t= mod.get_function(\"ffthisft_1d_complex64_even\")\n",
        "ffthisft_1d_complex64_odd \t\t= mod.get_function(\"ffthisft_1d_complex64_odd\")\n",
        "\n",
        "def fftshift_1d_complex64(d_x, M, blockDim, gridDim):\n",
        "  if (M % 2) == 0:\n",
        "    ffthisft_1d_complex64_even(d_x, np.int32(M), block = blockDim, grid = gridDim)\n",
        "  else:\n",
        "    ffthisft_1d_complex64_odd(d_x, np.int32(M), block = blockDim, grid = gridDim)\n",
        "\n",
        "  return d_x"
      ],
      "metadata": {
        "id": "W1K1OfN49ARY"
      },
      "execution_count": null,
      "outputs": []
    },
    {
      "cell_type": "code",
      "source": [
        "BLOCKSIZE = 256\n",
        "\n",
        "blockDim  = (BLOCKSIZE, 1, 1)\n",
        "gridDim   = (int(iDivUp(M, BLOCKSIZE)), 1, 1)\n",
        "\n",
        "fftshift_1d_complex64(d_x, M, blockDim, gridDim)\n",
        "fft.fft(d_x, d_y, plan)\n",
        "  \n",
        "h_y = d_y.get()\n",
        "\n",
        "plt.plot(np.abs(h_y))\n",
        "plt.ylabel('FFT')\n",
        "plt.show()"
      ],
      "metadata": {
        "id": "tWTwwK1VA4xo",
        "colab": {
          "base_uri": "https://localhost:8080/",
          "height": 265
        },
        "outputId": "f5423f63-4527-4ce9-8bdb-df4b4c68342f"
      },
      "execution_count": null,
      "outputs": [
        {
          "output_type": "display_data",
          "data": {
            "text/plain": [
              "<Figure size 432x288 with 1 Axes>"
            ],
            "image/png": "[encoded data removed]"
          },
          "metadata": {
            "needs_background": "light"
          }
        }
      ]
    },
    {
      "cell_type": "code",
      "source": [
        "print(h_y)"
      ],
      "metadata": {
        "colab": {
          "base_uri": "https://localhost:8080/"
        },
        "id": "XhKDo5bWIJsz",
        "outputId": "e4ff11dc-e39d-4f8c-d537-eea556d6e463"
      },
      "execution_count": null,
      "outputs": [
        {
          "output_type": "stream",
          "name": "stdout",
          "text": [
            "[[-5.1259995e-06+1.7434359e-06j]\n",
            " [ 1.7946165e-06+6.2885533e-06j]\n",
            " [-4.7683716e-06+3.9832871e-06j]\n",
            " [-6.2769896e-06-9.4767631e-07j]\n",
            " [-1.2240798e-06-4.0880195e-06j]\n",
            " [-4.7643916e-06+4.4593262e-06j]\n",
            " [-6.4479700e-06-7.2281346e-06j]\n",
            " [-6.1107767e-07-3.8086391e-06j]\n",
            " [ 1.9248678e-06-1.0793643e-05j]\n",
            " [ 6.6619255e-06-2.5869356e-06j]\n",
            " [ 8.1351554e-06-1.8872665e-06j]\n",
            " [ 1.3794814e-05-9.9794534e-07j]\n",
            " [ 2.5000000e+01+2.9717343e-05j]\n",
            " [-1.3768773e-05-1.0489161e-06j]\n",
            " [-8.4384128e-06-1.6332210e-06j]\n",
            " [-6.6161138e-06-2.4099131e-06j]\n",
            " [-1.3285621e-06-1.0268821e-05j]\n",
            " [ 9.5367432e-07-3.3249080e-06j]\n",
            " [ 6.8730892e-06-6.9356151e-06j]\n",
            " [ 4.6432233e-06+4.3820269e-06j]\n",
            " [ 1.2187919e-06-3.9917450e-06j]\n",
            " [ 6.0837856e-06-7.8203925e-07j]\n",
            " [ 3.8191556e-06+4.0781879e-06j]\n",
            " [-1.8652157e-06+6.4504634e-06j]\n",
            " [ 4.9853638e-06+1.6308120e-06j]]\n"
          ]
        }
      ]
    }
  ]
}