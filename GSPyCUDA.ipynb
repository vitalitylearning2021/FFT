{
  "nbformat": 4,
  "nbformat_minor": 0,
  "metadata": {
    "colab": {
      "name": "GSPyCUDA.ipynb",
      "provenance": [],
      "collapsed_sections": []
    },
    "kernelspec": {
      "name": "python3",
      "display_name": "Python 3"
    },
    "language_info": {
      "name": "python"
    },
    "accelerator": "GPU",
    "gpuClass": "standard"
  },
  "cells": [
    {
      "cell_type": "code",
      "source": [
        "!pip install pycuda"
      ],
      "metadata": {
        "colab": {
          "base_uri": "https://localhost:8080/"
        },
        "id": "8YtORExnlcjo",
        "outputId": "9e6f9cf6-3271-423a-f551-ef1340c60a6d"
      },
      "execution_count": 1,
      "outputs": [
        {
          "output_type": "stream",
          "name": "stdout",
          "text": [
            "Looking in indexes: https://pypi.org/simple, https://us-python.pkg.dev/colab-wheels/public/simple/\n",
            "Requirement already satisfied: pycuda in /usr/local/lib/python3.7/dist-packages (2022.1)\n",
            "Requirement already satisfied: pytools>=2011.2 in /usr/local/lib/python3.7/dist-packages (from pycuda) (2022.1.12)\n",
            "Requirement already satisfied: appdirs>=1.4.0 in /usr/local/lib/python3.7/dist-packages (from pycuda) (1.4.4)\n",
            "Requirement already satisfied: mako in /usr/local/lib/python3.7/dist-packages (from pycuda) (1.2.1)\n",
            "Requirement already satisfied: platformdirs>=2.2.0 in /usr/local/lib/python3.7/dist-packages (from pytools>=2011.2->pycuda) (2.5.2)\n",
            "Requirement already satisfied: typing-extensions>=4.0 in /usr/local/lib/python3.7/dist-packages (from pytools>=2011.2->pycuda) (4.1.1)\n",
            "Requirement already satisfied: importlib-metadata in /usr/local/lib/python3.7/dist-packages (from mako->pycuda) (4.12.0)\n",
            "Requirement already satisfied: MarkupSafe>=0.9.2 in /usr/local/lib/python3.7/dist-packages (from mako->pycuda) (2.0.1)\n",
            "Requirement already satisfied: zipp>=0.5 in /usr/local/lib/python3.7/dist-packages (from importlib-metadata->mako->pycuda) (3.8.0)\n"
          ]
        }
      ]
    },
    {
      "cell_type": "code",
      "source": [
        "pip install scikit-cuda"
      ],
      "metadata": {
        "id": "A3pR0SUYrA8U",
        "colab": {
          "base_uri": "https://localhost:8080/"
        },
        "outputId": "93ce6e06-79ad-44df-f7e8-051cfc879d8a"
      },
      "execution_count": 2,
      "outputs": [
        {
          "output_type": "stream",
          "name": "stdout",
          "text": [
            "Looking in indexes: https://pypi.org/simple, https://us-python.pkg.dev/colab-wheels/public/simple/\n",
            "Requirement already satisfied: scikit-cuda in /usr/local/lib/python3.7/dist-packages (0.5.3)\n",
            "Requirement already satisfied: numpy>=1.2.0 in /usr/local/lib/python3.7/dist-packages (from scikit-cuda) (1.21.6)\n",
            "Requirement already satisfied: mako>=1.0.1 in /usr/local/lib/python3.7/dist-packages (from scikit-cuda) (1.2.1)\n",
            "Requirement already satisfied: pycuda>=2016.1 in /usr/local/lib/python3.7/dist-packages (from scikit-cuda) (2022.1)\n",
            "Requirement already satisfied: importlib-metadata in /usr/local/lib/python3.7/dist-packages (from mako>=1.0.1->scikit-cuda) (4.12.0)\n",
            "Requirement already satisfied: MarkupSafe>=0.9.2 in /usr/local/lib/python3.7/dist-packages (from mako>=1.0.1->scikit-cuda) (2.0.1)\n",
            "Requirement already satisfied: pytools>=2011.2 in /usr/local/lib/python3.7/dist-packages (from pycuda>=2016.1->scikit-cuda) (2022.1.12)\n",
            "Requirement already satisfied: appdirs>=1.4.0 in /usr/local/lib/python3.7/dist-packages (from pycuda>=2016.1->scikit-cuda) (1.4.4)\n",
            "Requirement already satisfied: platformdirs>=2.2.0 in /usr/local/lib/python3.7/dist-packages (from pytools>=2011.2->pycuda>=2016.1->scikit-cuda) (2.5.2)\n",
            "Requirement already satisfied: typing-extensions>=4.0 in /usr/local/lib/python3.7/dist-packages (from pytools>=2011.2->pycuda>=2016.1->scikit-cuda) (4.1.1)\n",
            "Requirement already satisfied: zipp>=0.5 in /usr/local/lib/python3.7/dist-packages (from importlib-metadata->mako>=1.0.1->scikit-cuda) (3.8.0)\n"
          ]
        }
      ]
    },
    {
      "cell_type": "code",
      "execution_count": 3,
      "metadata": {
        "id": "lqYcMpJ9lWwA"
      },
      "outputs": [],
      "source": [
        "import cv2\n",
        "import matplotlib.pyplot as plt\n",
        "import math\n",
        "import numpy as np"
      ]
    },
    {
      "cell_type": "code",
      "source": [
        "import pycuda.autoinit\n",
        "import pycuda.gpuarray as gpuarray\n",
        "import pycuda.cumath\n",
        "import pycuda.curandom\n",
        "from pycuda.compiler import SourceModule"
      ],
      "metadata": {
        "id": "2ZycQUEtliDU"
      },
      "execution_count": 4,
      "outputs": []
    },
    {
      "cell_type": "code",
      "source": [
        "from skcuda import fft"
      ],
      "metadata": {
        "id": "tkf8d_4LrDrL",
        "colab": {
          "base_uri": "https://localhost:8080/"
        },
        "outputId": "3e3ec18a-a505-42bb-f2f8-e269d8d5c390"
      },
      "execution_count": 5,
      "outputs": [
        {
          "output_type": "stream",
          "name": "stderr",
          "text": [
            "/usr/local/lib/python3.7/dist-packages/skcuda/cublas.py:284: UserWarning: creating CUBLAS context to get version number\n",
            "  warnings.warn('creating CUBLAS context to get version number')\n"
          ]
        }
      ]
    },
    {
      "cell_type": "code",
      "source": [
        "###################\n",
        "# iDivUp FUNCTION #\n",
        "###################\n",
        "def iDivUp(a, b):\n",
        "    # Round a / b to nearest higher integer value\n",
        "    a = np.int32(a)\n",
        "    b = np.int32(b)\n",
        "    return (a / b + 1) if (a % b != 0) else (a / b)"
      ],
      "metadata": {
        "id": "Hz1_hbSV6KNM"
      },
      "execution_count": 6,
      "outputs": []
    },
    {
      "cell_type": "code",
      "source": [
        "mod = SourceModule(\"\"\"\n",
        "   \n",
        "   #include <pycuda-complex.hpp>\n",
        "\n",
        "   typedef pycuda::complex<float> cmplx;\n",
        "   \n",
        "   __global__ void projectionKernel(const float * __restrict__ d_measuredAmplitude, cmplx * __restrict__ d_current, const int M, const int N) {\n",
        "\n",
        "\t    const int tidx = threadIdx.x + blockIdx.x * blockDim.x;\n",
        "\t    const int tidy = threadIdx.y + blockIdx.y * blockDim.y;\n",
        "\n",
        "\t    if ((tidy >= M) || (tidx >= N)) return;\n",
        "\t    \n",
        "      float d_scaling = d_measuredAmplitude[tidy * N + tidx] / (abs(d_current[tidy * N + tidx]) + 1e-7);\n",
        "      \n",
        "      d_current[tidy * N + tidx]\t= d_scaling * d_current[tidy * N + tidx];\n",
        "       \n",
        "    }\n",
        "  \n",
        "  \"\"\")"
      ],
      "metadata": {
        "id": "81q2f9bkwRz8"
      },
      "execution_count": 7,
      "outputs": []
    },
    {
      "cell_type": "code",
      "source": [
        "projection = mod.get_function(\"projectionKernel\")"
      ],
      "metadata": {
        "id": "-B2byDwc6CiO"
      },
      "execution_count": 8,
      "outputs": []
    },
    {
      "cell_type": "code",
      "source": [
        "def GS_Python_PyCUDA(d_img, maxIter):\n",
        "    \n",
        "    d_img = d_img.astype(np.complex64)\n",
        "\n",
        "    height, width = d_img.shape\n",
        "    \n",
        "    # --- Assumptions\n",
        "    d_measuredAmplitudeSpace    = pycuda.cumath.sqrt(d_img)\n",
        "    d_measuredAmplitudeFourier  = pycuda.gpuarray.ones_like(d_measuredAmplitudeSpace, dtype = np.complex64)\n",
        "    \n",
        "    # --- Starting point\n",
        "    rg                          = pycuda.curandom.XORWOWRandomNumberGenerator()\n",
        "    d_currentPhaseSpace         = rg.gen_normal((height, width), dtype = np.float32) + 1j * rg.gen_normal((height, width), dtype = np.float32)\n",
        "    \n",
        "    # --- Initialization\n",
        "    d_currentPhaseFourier       = pycuda.gpuarray.ones_like(d_measuredAmplitudeSpace)\n",
        "    d_currentFourier            = pycuda.gpuarray.empty_like(d_measuredAmplitudeSpace)\n",
        "\n",
        "    d_currentSpace              = d_measuredAmplitudeSpace * pycuda.cumath.exp(1j * d_currentPhaseSpace)\n",
        "\n",
        "    plan                        = fft.Plan(d_currentSpace.shape, np.complex64, np.complex64)\n",
        "    \n",
        "    for iter in range(maxIter):\n",
        "        # --- Enforce measured amplitude constraint in the Fourier domain\n",
        "        fft.fft(d_currentSpace, d_currentFourier, plan)\n",
        "        d_currentFourier            = d_measuredAmplitudeFourier * d_currentFourier / (d_currentFourier.__abs__() + 1e-7)\n",
        "\n",
        "        # --- Enforce measured amplitude constraint in the spatial domain\n",
        "        fft.ifft(d_currentFourier, d_currentSpace, plan)\n",
        "        d_currentSpace              = d_measuredAmplitudeSpace * d_currentSpace / (d_currentSpace.__abs__() + 1e-7)\n",
        "\n",
        "    currentSpace = d_currentSpace.get()\n",
        "\n",
        "    return currentSpace"
      ],
      "metadata": {
        "id": "QoVx7hvtl7-d"
      },
      "execution_count": 9,
      "outputs": []
    },
    {
      "cell_type": "code",
      "source": [
        "def GS_Python_PyCUDA_kernel(d_img, maxIter):\n",
        "    \n",
        "    BLOCKSIZEX = 16\n",
        "    BLOCKSIZEY = 16\n",
        "\n",
        "    height, width = d_img.shape\n",
        "\n",
        "    blockDim    = (BLOCKSIZEX, BLOCKSIZEY, 1)\n",
        "    gridDim     = (int(iDivUp(width, BLOCKSIZEX)), int(iDivUp(height, BLOCKSIZEY)), 1)\n",
        "    \n",
        "    # --- Assumptions\n",
        "    d_measuredAmplitudeSpace    = pycuda.cumath.sqrt(d_img)\n",
        "    d_measuredAmplitudeFourier  = pycuda.gpuarray.ones_like(d_measuredAmplitudeSpace, dtype = np.float32)\n",
        "    \n",
        "    # --- Starting point\n",
        "    rg                          = pycuda.curandom.XORWOWRandomNumberGenerator()\n",
        "    d_currentPhaseSpace         = rg.gen_normal((height, width), dtype = np.float32) + 1j * rg.gen_normal((height, width), dtype = np.float32)\n",
        "    \n",
        "    # --- Initialization\n",
        "    d_currentPhaseFourier       = pycuda.gpuarray.ones_like(d_measuredAmplitudeSpace)\n",
        "    d_currentFourier            = pycuda.gpuarray.empty_like(d_measuredAmplitudeSpace)\n",
        "\n",
        "    d_currentSpace              = d_measuredAmplitudeSpace * pycuda.cumath.exp(1j * d_currentPhaseSpace)\n",
        "\n",
        "    plan                        = fft.Plan(d_currentSpace.shape, np.complex64, np.complex64)\n",
        "    \n",
        "    for iter in range(maxIter):\n",
        "        # --- Enforce measured amplitude constraint in the Fourier domain\n",
        "        fft.fft(d_currentSpace, d_currentFourier, plan)\n",
        "        projection(d_measuredAmplitudeFourier, d_currentFourier, np.int32(height), np.int32(width), block = blockDim, grid = gridDim)\n",
        "\n",
        "        # --- Enforce measured amplitude constraint in the spatial domain\n",
        "        fft.ifft(d_currentFourier, d_currentSpace, plan)\n",
        "        projection(d_measuredAmplitudeSpace, d_currentSpace, np.int32(height), np.int32(width), block = blockDim, grid = gridDim)\n",
        "\n",
        "    currentSpace = d_currentSpace.get()\n",
        "\n",
        "    return currentSpace"
      ],
      "metadata": {
        "id": "ZnmQa1lG9Uxq"
      },
      "execution_count": 10,
      "outputs": []
    },
    {
      "cell_type": "markdown",
      "source": [
        "Main program."
      ],
      "metadata": {
        "id": "Uij2TEzxnBIl"
      }
    },
    {
      "cell_type": "code",
      "source": [
        "filename = 'butterfly.jfif'\n",
        "img = cv2.imread(filename, cv2.IMREAD_GRAYSCALE)\n",
        "img = img.astype(np.float32)\n",
        "\n",
        "# --- Maximum number of iterations\n",
        "maxIters = 1000\n",
        "\n",
        "d_img = pycuda.gpuarray.to_gpu(img)\n",
        "\n",
        "#currentSpace = GS_Python_PyCUDA(d_img, maxIters)\n",
        "currentSpace = GS_Python_PyCUDA_kernel(d_img, maxIters)\n",
        "\n",
        "plt.figure(1)\n",
        "\n",
        "# --- Reference image\n",
        "plt.subplot(121)\n",
        "plt.imshow(img.astype(np.float32))\n",
        "plt.title('Reference image')\n",
        "\n",
        "plt.subplot(122)\n",
        "plt.imshow((currentSpace.__abs__())**2)\n",
        "plt.title('Recovered image')\n",
        "\n",
        "plt.show()"
      ],
      "metadata": {
        "id": "M9X5vd98l07J",
        "colab": {
          "base_uri": "https://localhost:8080/",
          "height": 149
        },
        "outputId": "430a3e0a-6be7-4690-c35b-56a5b79564b1"
      },
      "execution_count": 11,
      "outputs": [
        {
          "output_type": "display_data",
          "data": {
            "text/plain": [
              "<Figure size 432x288 with 2 Axes>"
            ],
            "image/png": "[encoded data removed]"
          },
          "metadata": {
            "needs_background": "light"
          }
        }
      ]
    },
    {
      "cell_type": "code",
      "source": [
        "print(type(img))"
      ],
      "metadata": {
        "colab": {
          "base_uri": "https://localhost:8080/"
        },
        "id": "LbdRRPCJlVUu",
        "outputId": "9912845e-43b2-4dc3-8a42-e790c5dad4bc"
      },
      "execution_count": 12,
      "outputs": [
        {
          "output_type": "stream",
          "name": "stdout",
          "text": [
            "<class 'numpy.ndarray'>\n"
          ]
        }
      ]
    }
  ]
}